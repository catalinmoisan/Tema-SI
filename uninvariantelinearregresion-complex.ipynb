{
 "cells": [
  {
   "cell_type": "code",
   "execution_count": 1,
   "id": "cae1f278",
   "metadata": {
    "_cell_guid": "b1076dfc-b9ad-4769-8c92-a6c4dae69d19",
    "_uuid": "8f2839f25d086af736a60e9eeb907d3b93b6e0e5",
    "execution": {
     "iopub.execute_input": "2025-04-28T13:55:19.026331Z",
     "iopub.status.busy": "2025-04-28T13:55:19.025989Z",
     "iopub.status.idle": "2025-04-28T13:55:21.030406Z",
     "shell.execute_reply": "2025-04-28T13:55:21.028963Z"
    },
    "papermill": {
     "duration": 2.014624,
     "end_time": "2025-04-28T13:55:21.032141",
     "exception": false,
     "start_time": "2025-04-28T13:55:19.017517",
     "status": "completed"
    },
    "tags": []
   },
   "outputs": [
    {
     "name": "stdout",
     "output_type": "stream",
     "text": [
      "/kaggle/input/housedata/output.csv\n",
      "/kaggle/input/housedata/data.csv\n",
      "/kaggle/input/housedata/data.dat\n"
     ]
    }
   ],
   "source": [
    "# This Python 3 environment comes with many helpful analytics libraries installed\n",
    "# It is defined by the kaggle/python Docker image: https://github.com/kaggle/docker-python\n",
    "# For example, here's several helpful packages to load\n",
    "\n",
    "import numpy as np # linear algebra\n",
    "import pandas as pd # data processing, CSV file I/O (e.g. pd.read_csv)\n",
    "\n",
    "# Input data files are available in the read-only \"../input/\" directory\n",
    "# For example, running this (by clicking run or pressing Shift+Enter) will list all files under the input directory\n",
    "\n",
    "import os\n",
    "for dirname, _, filenames in os.walk('/kaggle/input'):\n",
    "    for filename in filenames:\n",
    "        print(os.path.join(dirname, filename))\n",
    "\n",
    "# You can write up to 20GB to the current directory (/kaggle/working/) that gets preserved as output when you create a version using \"Save & Run All\" \n",
    "# You can also write temporary files to /kaggle/temp/, but they won't be saved outside of the current session"
   ]
  },
  {
   "cell_type": "code",
   "execution_count": 2,
   "id": "873f3c7b",
   "metadata": {
    "execution": {
     "iopub.execute_input": "2025-04-28T13:55:21.046639Z",
     "iopub.status.busy": "2025-04-28T13:55:21.046203Z",
     "iopub.status.idle": "2025-04-28T13:55:22.028896Z",
     "shell.execute_reply": "2025-04-28T13:55:22.027814Z"
    },
    "papermill": {
     "duration": 0.991809,
     "end_time": "2025-04-28T13:55:22.030791",
     "exception": false,
     "start_time": "2025-04-28T13:55:21.038982",
     "status": "completed"
    },
    "tags": []
   },
   "outputs": [
    {
     "name": "stdout",
     "output_type": "stream",
     "text": [
      "Path to dataset files: /kaggle/input/housedata\n"
     ]
    }
   ],
   "source": [
    "import kagglehub\n",
    "\n",
    "# Download latest version\n",
    "path = kagglehub.dataset_download(\"shree1992/housedata\")\n",
    "\n",
    "print(\"Path to dataset files:\", path)"
   ]
  },
  {
   "cell_type": "code",
   "execution_count": 3,
   "id": "a23cf92a",
   "metadata": {
    "execution": {
     "iopub.execute_input": "2025-04-28T13:55:22.054486Z",
     "iopub.status.busy": "2025-04-28T13:55:22.052694Z",
     "iopub.status.idle": "2025-04-28T13:55:22.058839Z",
     "shell.execute_reply": "2025-04-28T13:55:22.057959Z"
    },
    "papermill": {
     "duration": 0.018729,
     "end_time": "2025-04-28T13:55:22.060434",
     "exception": false,
     "start_time": "2025-04-28T13:55:22.041705",
     "status": "completed"
    },
    "tags": []
   },
   "outputs": [],
   "source": [
    "import numpy as np\n",
    "import pandas as pd\n",
    "import matplotlib.pyplot as plt\n",
    "import copy"
   ]
  },
  {
   "cell_type": "markdown",
   "id": "da3f7326",
   "metadata": {
    "papermill": {
     "duration": 0.006922,
     "end_time": "2025-04-28T13:55:22.074358",
     "exception": false,
     "start_time": "2025-04-28T13:55:22.067436",
     "status": "completed"
    },
    "tags": []
   },
   "source": [
    "**Data Preprocessing**"
   ]
  },
  {
   "cell_type": "code",
   "execution_count": 4,
   "id": "ebdde88f",
   "metadata": {
    "execution": {
     "iopub.execute_input": "2025-04-28T13:55:22.088264Z",
     "iopub.status.busy": "2025-04-28T13:55:22.087885Z",
     "iopub.status.idle": "2025-04-28T13:55:22.125678Z",
     "shell.execute_reply": "2025-04-28T13:55:22.124622Z"
    },
    "papermill": {
     "duration": 0.046701,
     "end_time": "2025-04-28T13:55:22.127431",
     "exception": false,
     "start_time": "2025-04-28T13:55:22.080730",
     "status": "completed"
    },
    "tags": []
   },
   "outputs": [],
   "source": [
    "data = pd.read_csv(os.path.join(path, 'data.csv'))"
   ]
  },
  {
   "cell_type": "code",
   "execution_count": 5,
   "id": "ef56a2c6",
   "metadata": {
    "execution": {
     "iopub.execute_input": "2025-04-28T13:55:22.141779Z",
     "iopub.status.busy": "2025-04-28T13:55:22.141144Z",
     "iopub.status.idle": "2025-04-28T13:55:22.184316Z",
     "shell.execute_reply": "2025-04-28T13:55:22.183372Z"
    },
    "papermill": {
     "duration": 0.052802,
     "end_time": "2025-04-28T13:55:22.186748",
     "exception": false,
     "start_time": "2025-04-28T13:55:22.133946",
     "status": "completed"
    },
    "tags": []
   },
   "outputs": [
    {
     "data": {
      "text/html": [
       "<div>\n",
       "<style scoped>\n",
       "    .dataframe tbody tr th:only-of-type {\n",
       "        vertical-align: middle;\n",
       "    }\n",
       "\n",
       "    .dataframe tbody tr th {\n",
       "        vertical-align: top;\n",
       "    }\n",
       "\n",
       "    .dataframe thead th {\n",
       "        text-align: right;\n",
       "    }\n",
       "</style>\n",
       "<table border=\"1\" class=\"dataframe\">\n",
       "  <thead>\n",
       "    <tr style=\"text-align: right;\">\n",
       "      <th></th>\n",
       "      <th>date</th>\n",
       "      <th>price</th>\n",
       "      <th>bedrooms</th>\n",
       "      <th>bathrooms</th>\n",
       "      <th>sqft_living</th>\n",
       "      <th>sqft_lot</th>\n",
       "      <th>floors</th>\n",
       "      <th>waterfront</th>\n",
       "      <th>view</th>\n",
       "      <th>condition</th>\n",
       "      <th>sqft_above</th>\n",
       "      <th>sqft_basement</th>\n",
       "      <th>yr_built</th>\n",
       "      <th>yr_renovated</th>\n",
       "      <th>street</th>\n",
       "      <th>city</th>\n",
       "      <th>statezip</th>\n",
       "      <th>country</th>\n",
       "    </tr>\n",
       "  </thead>\n",
       "  <tbody>\n",
       "    <tr>\n",
       "      <th>0</th>\n",
       "      <td>2014-05-02 00:00:00</td>\n",
       "      <td>3.130000e+05</td>\n",
       "      <td>3.0</td>\n",
       "      <td>1.50</td>\n",
       "      <td>1340</td>\n",
       "      <td>7912</td>\n",
       "      <td>1.5</td>\n",
       "      <td>0</td>\n",
       "      <td>0</td>\n",
       "      <td>3</td>\n",
       "      <td>1340</td>\n",
       "      <td>0</td>\n",
       "      <td>1955</td>\n",
       "      <td>2005</td>\n",
       "      <td>18810 Densmore Ave N</td>\n",
       "      <td>Shoreline</td>\n",
       "      <td>WA 98133</td>\n",
       "      <td>USA</td>\n",
       "    </tr>\n",
       "    <tr>\n",
       "      <th>1</th>\n",
       "      <td>2014-05-02 00:00:00</td>\n",
       "      <td>2.384000e+06</td>\n",
       "      <td>5.0</td>\n",
       "      <td>2.50</td>\n",
       "      <td>3650</td>\n",
       "      <td>9050</td>\n",
       "      <td>2.0</td>\n",
       "      <td>0</td>\n",
       "      <td>4</td>\n",
       "      <td>5</td>\n",
       "      <td>3370</td>\n",
       "      <td>280</td>\n",
       "      <td>1921</td>\n",
       "      <td>0</td>\n",
       "      <td>709 W Blaine St</td>\n",
       "      <td>Seattle</td>\n",
       "      <td>WA 98119</td>\n",
       "      <td>USA</td>\n",
       "    </tr>\n",
       "    <tr>\n",
       "      <th>2</th>\n",
       "      <td>2014-05-02 00:00:00</td>\n",
       "      <td>3.420000e+05</td>\n",
       "      <td>3.0</td>\n",
       "      <td>2.00</td>\n",
       "      <td>1930</td>\n",
       "      <td>11947</td>\n",
       "      <td>1.0</td>\n",
       "      <td>0</td>\n",
       "      <td>0</td>\n",
       "      <td>4</td>\n",
       "      <td>1930</td>\n",
       "      <td>0</td>\n",
       "      <td>1966</td>\n",
       "      <td>0</td>\n",
       "      <td>26206-26214 143rd Ave SE</td>\n",
       "      <td>Kent</td>\n",
       "      <td>WA 98042</td>\n",
       "      <td>USA</td>\n",
       "    </tr>\n",
       "    <tr>\n",
       "      <th>3</th>\n",
       "      <td>2014-05-02 00:00:00</td>\n",
       "      <td>4.200000e+05</td>\n",
       "      <td>3.0</td>\n",
       "      <td>2.25</td>\n",
       "      <td>2000</td>\n",
       "      <td>8030</td>\n",
       "      <td>1.0</td>\n",
       "      <td>0</td>\n",
       "      <td>0</td>\n",
       "      <td>4</td>\n",
       "      <td>1000</td>\n",
       "      <td>1000</td>\n",
       "      <td>1963</td>\n",
       "      <td>0</td>\n",
       "      <td>857 170th Pl NE</td>\n",
       "      <td>Bellevue</td>\n",
       "      <td>WA 98008</td>\n",
       "      <td>USA</td>\n",
       "    </tr>\n",
       "    <tr>\n",
       "      <th>4</th>\n",
       "      <td>2014-05-02 00:00:00</td>\n",
       "      <td>5.500000e+05</td>\n",
       "      <td>4.0</td>\n",
       "      <td>2.50</td>\n",
       "      <td>1940</td>\n",
       "      <td>10500</td>\n",
       "      <td>1.0</td>\n",
       "      <td>0</td>\n",
       "      <td>0</td>\n",
       "      <td>4</td>\n",
       "      <td>1140</td>\n",
       "      <td>800</td>\n",
       "      <td>1976</td>\n",
       "      <td>1992</td>\n",
       "      <td>9105 170th Ave NE</td>\n",
       "      <td>Redmond</td>\n",
       "      <td>WA 98052</td>\n",
       "      <td>USA</td>\n",
       "    </tr>\n",
       "    <tr>\n",
       "      <th>...</th>\n",
       "      <td>...</td>\n",
       "      <td>...</td>\n",
       "      <td>...</td>\n",
       "      <td>...</td>\n",
       "      <td>...</td>\n",
       "      <td>...</td>\n",
       "      <td>...</td>\n",
       "      <td>...</td>\n",
       "      <td>...</td>\n",
       "      <td>...</td>\n",
       "      <td>...</td>\n",
       "      <td>...</td>\n",
       "      <td>...</td>\n",
       "      <td>...</td>\n",
       "      <td>...</td>\n",
       "      <td>...</td>\n",
       "      <td>...</td>\n",
       "      <td>...</td>\n",
       "    </tr>\n",
       "    <tr>\n",
       "      <th>4595</th>\n",
       "      <td>2014-07-09 00:00:00</td>\n",
       "      <td>3.081667e+05</td>\n",
       "      <td>3.0</td>\n",
       "      <td>1.75</td>\n",
       "      <td>1510</td>\n",
       "      <td>6360</td>\n",
       "      <td>1.0</td>\n",
       "      <td>0</td>\n",
       "      <td>0</td>\n",
       "      <td>4</td>\n",
       "      <td>1510</td>\n",
       "      <td>0</td>\n",
       "      <td>1954</td>\n",
       "      <td>1979</td>\n",
       "      <td>501 N 143rd St</td>\n",
       "      <td>Seattle</td>\n",
       "      <td>WA 98133</td>\n",
       "      <td>USA</td>\n",
       "    </tr>\n",
       "    <tr>\n",
       "      <th>4596</th>\n",
       "      <td>2014-07-09 00:00:00</td>\n",
       "      <td>5.343333e+05</td>\n",
       "      <td>3.0</td>\n",
       "      <td>2.50</td>\n",
       "      <td>1460</td>\n",
       "      <td>7573</td>\n",
       "      <td>2.0</td>\n",
       "      <td>0</td>\n",
       "      <td>0</td>\n",
       "      <td>3</td>\n",
       "      <td>1460</td>\n",
       "      <td>0</td>\n",
       "      <td>1983</td>\n",
       "      <td>2009</td>\n",
       "      <td>14855 SE 10th Pl</td>\n",
       "      <td>Bellevue</td>\n",
       "      <td>WA 98007</td>\n",
       "      <td>USA</td>\n",
       "    </tr>\n",
       "    <tr>\n",
       "      <th>4597</th>\n",
       "      <td>2014-07-09 00:00:00</td>\n",
       "      <td>4.169042e+05</td>\n",
       "      <td>3.0</td>\n",
       "      <td>2.50</td>\n",
       "      <td>3010</td>\n",
       "      <td>7014</td>\n",
       "      <td>2.0</td>\n",
       "      <td>0</td>\n",
       "      <td>0</td>\n",
       "      <td>3</td>\n",
       "      <td>3010</td>\n",
       "      <td>0</td>\n",
       "      <td>2009</td>\n",
       "      <td>0</td>\n",
       "      <td>759 Ilwaco Pl NE</td>\n",
       "      <td>Renton</td>\n",
       "      <td>WA 98059</td>\n",
       "      <td>USA</td>\n",
       "    </tr>\n",
       "    <tr>\n",
       "      <th>4598</th>\n",
       "      <td>2014-07-10 00:00:00</td>\n",
       "      <td>2.034000e+05</td>\n",
       "      <td>4.0</td>\n",
       "      <td>2.00</td>\n",
       "      <td>2090</td>\n",
       "      <td>6630</td>\n",
       "      <td>1.0</td>\n",
       "      <td>0</td>\n",
       "      <td>0</td>\n",
       "      <td>3</td>\n",
       "      <td>1070</td>\n",
       "      <td>1020</td>\n",
       "      <td>1974</td>\n",
       "      <td>0</td>\n",
       "      <td>5148 S Creston St</td>\n",
       "      <td>Seattle</td>\n",
       "      <td>WA 98178</td>\n",
       "      <td>USA</td>\n",
       "    </tr>\n",
       "    <tr>\n",
       "      <th>4599</th>\n",
       "      <td>2014-07-10 00:00:00</td>\n",
       "      <td>2.206000e+05</td>\n",
       "      <td>3.0</td>\n",
       "      <td>2.50</td>\n",
       "      <td>1490</td>\n",
       "      <td>8102</td>\n",
       "      <td>2.0</td>\n",
       "      <td>0</td>\n",
       "      <td>0</td>\n",
       "      <td>4</td>\n",
       "      <td>1490</td>\n",
       "      <td>0</td>\n",
       "      <td>1990</td>\n",
       "      <td>0</td>\n",
       "      <td>18717 SE 258th St</td>\n",
       "      <td>Covington</td>\n",
       "      <td>WA 98042</td>\n",
       "      <td>USA</td>\n",
       "    </tr>\n",
       "  </tbody>\n",
       "</table>\n",
       "<p>4600 rows × 18 columns</p>\n",
       "</div>"
      ],
      "text/plain": [
       "                     date         price  bedrooms  bathrooms  sqft_living  \\\n",
       "0     2014-05-02 00:00:00  3.130000e+05       3.0       1.50         1340   \n",
       "1     2014-05-02 00:00:00  2.384000e+06       5.0       2.50         3650   \n",
       "2     2014-05-02 00:00:00  3.420000e+05       3.0       2.00         1930   \n",
       "3     2014-05-02 00:00:00  4.200000e+05       3.0       2.25         2000   \n",
       "4     2014-05-02 00:00:00  5.500000e+05       4.0       2.50         1940   \n",
       "...                   ...           ...       ...        ...          ...   \n",
       "4595  2014-07-09 00:00:00  3.081667e+05       3.0       1.75         1510   \n",
       "4596  2014-07-09 00:00:00  5.343333e+05       3.0       2.50         1460   \n",
       "4597  2014-07-09 00:00:00  4.169042e+05       3.0       2.50         3010   \n",
       "4598  2014-07-10 00:00:00  2.034000e+05       4.0       2.00         2090   \n",
       "4599  2014-07-10 00:00:00  2.206000e+05       3.0       2.50         1490   \n",
       "\n",
       "      sqft_lot  floors  waterfront  view  condition  sqft_above  \\\n",
       "0         7912     1.5           0     0          3        1340   \n",
       "1         9050     2.0           0     4          5        3370   \n",
       "2        11947     1.0           0     0          4        1930   \n",
       "3         8030     1.0           0     0          4        1000   \n",
       "4        10500     1.0           0     0          4        1140   \n",
       "...        ...     ...         ...   ...        ...         ...   \n",
       "4595      6360     1.0           0     0          4        1510   \n",
       "4596      7573     2.0           0     0          3        1460   \n",
       "4597      7014     2.0           0     0          3        3010   \n",
       "4598      6630     1.0           0     0          3        1070   \n",
       "4599      8102     2.0           0     0          4        1490   \n",
       "\n",
       "      sqft_basement  yr_built  yr_renovated                    street  \\\n",
       "0                 0      1955          2005      18810 Densmore Ave N   \n",
       "1               280      1921             0           709 W Blaine St   \n",
       "2                 0      1966             0  26206-26214 143rd Ave SE   \n",
       "3              1000      1963             0           857 170th Pl NE   \n",
       "4               800      1976          1992         9105 170th Ave NE   \n",
       "...             ...       ...           ...                       ...   \n",
       "4595              0      1954          1979            501 N 143rd St   \n",
       "4596              0      1983          2009          14855 SE 10th Pl   \n",
       "4597              0      2009             0          759 Ilwaco Pl NE   \n",
       "4598           1020      1974             0         5148 S Creston St   \n",
       "4599              0      1990             0         18717 SE 258th St   \n",
       "\n",
       "           city  statezip country  \n",
       "0     Shoreline  WA 98133     USA  \n",
       "1       Seattle  WA 98119     USA  \n",
       "2          Kent  WA 98042     USA  \n",
       "3      Bellevue  WA 98008     USA  \n",
       "4       Redmond  WA 98052     USA  \n",
       "...         ...       ...     ...  \n",
       "4595    Seattle  WA 98133     USA  \n",
       "4596   Bellevue  WA 98007     USA  \n",
       "4597     Renton  WA 98059     USA  \n",
       "4598    Seattle  WA 98178     USA  \n",
       "4599  Covington  WA 98042     USA  \n",
       "\n",
       "[4600 rows x 18 columns]"
      ]
     },
     "execution_count": 5,
     "metadata": {},
     "output_type": "execute_result"
    }
   ],
   "source": [
    "data"
   ]
  },
  {
   "cell_type": "code",
   "execution_count": 6,
   "id": "0f7a364b",
   "metadata": {
    "execution": {
     "iopub.execute_input": "2025-04-28T13:55:22.206905Z",
     "iopub.status.busy": "2025-04-28T13:55:22.206607Z",
     "iopub.status.idle": "2025-04-28T13:55:22.212795Z",
     "shell.execute_reply": "2025-04-28T13:55:22.211834Z"
    },
    "papermill": {
     "duration": 0.016232,
     "end_time": "2025-04-28T13:55:22.214306",
     "exception": false,
     "start_time": "2025-04-28T13:55:22.198074",
     "status": "completed"
    },
    "tags": []
   },
   "outputs": [],
   "source": [
    "x_data = data['sqft_living']\n",
    "y_data = data['price']"
   ]
  },
  {
   "cell_type": "code",
   "execution_count": 7,
   "id": "d5817797",
   "metadata": {
    "execution": {
     "iopub.execute_input": "2025-04-28T13:55:22.231417Z",
     "iopub.status.busy": "2025-04-28T13:55:22.230680Z",
     "iopub.status.idle": "2025-04-28T13:55:22.239217Z",
     "shell.execute_reply": "2025-04-28T13:55:22.238306Z"
    },
    "papermill": {
     "duration": 0.017871,
     "end_time": "2025-04-28T13:55:22.240710",
     "exception": false,
     "start_time": "2025-04-28T13:55:22.222839",
     "status": "completed"
    },
    "tags": []
   },
   "outputs": [
    {
     "data": {
      "text/plain": [
       "0       1340\n",
       "1       3650\n",
       "2       1930\n",
       "3       2000\n",
       "4       1940\n",
       "        ... \n",
       "4595    1510\n",
       "4596    1460\n",
       "4597    3010\n",
       "4598    2090\n",
       "4599    1490\n",
       "Name: sqft_living, Length: 4600, dtype: int64"
      ]
     },
     "execution_count": 7,
     "metadata": {},
     "output_type": "execute_result"
    }
   ],
   "source": [
    "x_data"
   ]
  },
  {
   "cell_type": "code",
   "execution_count": 8,
   "id": "e7c36371",
   "metadata": {
    "execution": {
     "iopub.execute_input": "2025-04-28T13:55:22.256202Z",
     "iopub.status.busy": "2025-04-28T13:55:22.255834Z",
     "iopub.status.idle": "2025-04-28T13:55:22.263220Z",
     "shell.execute_reply": "2025-04-28T13:55:22.262293Z"
    },
    "papermill": {
     "duration": 0.01686,
     "end_time": "2025-04-28T13:55:22.264667",
     "exception": false,
     "start_time": "2025-04-28T13:55:22.247807",
     "status": "completed"
    },
    "tags": []
   },
   "outputs": [
    {
     "data": {
      "text/plain": [
       "0       3.130000e+05\n",
       "1       2.384000e+06\n",
       "2       3.420000e+05\n",
       "3       4.200000e+05\n",
       "4       5.500000e+05\n",
       "            ...     \n",
       "4595    3.081667e+05\n",
       "4596    5.343333e+05\n",
       "4597    4.169042e+05\n",
       "4598    2.034000e+05\n",
       "4599    2.206000e+05\n",
       "Name: price, Length: 4600, dtype: float64"
      ]
     },
     "execution_count": 8,
     "metadata": {},
     "output_type": "execute_result"
    }
   ],
   "source": [
    "y_data"
   ]
  },
  {
   "cell_type": "code",
   "execution_count": 9,
   "id": "0f4d4dd7",
   "metadata": {
    "execution": {
     "iopub.execute_input": "2025-04-28T13:55:22.280214Z",
     "iopub.status.busy": "2025-04-28T13:55:22.279816Z",
     "iopub.status.idle": "2025-04-28T13:55:22.285830Z",
     "shell.execute_reply": "2025-04-28T13:55:22.284982Z"
    },
    "papermill": {
     "duration": 0.01548,
     "end_time": "2025-04-28T13:55:22.287455",
     "exception": false,
     "start_time": "2025-04-28T13:55:22.271975",
     "status": "completed"
    },
    "tags": []
   },
   "outputs": [
    {
     "data": {
      "text/plain": [
       "(4600, 4600)"
      ]
     },
     "execution_count": 9,
     "metadata": {},
     "output_type": "execute_result"
    }
   ],
   "source": [
    "len(x_data), len(y_data)"
   ]
  },
  {
   "cell_type": "code",
   "execution_count": 10,
   "id": "9563018b",
   "metadata": {
    "execution": {
     "iopub.execute_input": "2025-04-28T13:55:22.302887Z",
     "iopub.status.busy": "2025-04-28T13:55:22.302614Z",
     "iopub.status.idle": "2025-04-28T13:55:22.308285Z",
     "shell.execute_reply": "2025-04-28T13:55:22.307304Z"
    },
    "papermill": {
     "duration": 0.014941,
     "end_time": "2025-04-28T13:55:22.309715",
     "exception": false,
     "start_time": "2025-04-28T13:55:22.294774",
     "status": "completed"
    },
    "tags": []
   },
   "outputs": [],
   "source": [
    "def train_validation_split(x, y, validation_size=0.2, random_state=None):\n",
    "    x_validation = x.sample(frac=validation_size, random_state=random_state)\n",
    "    y_validation = y[x_validation.index]\n",
    "\n",
    "    x_train = x.drop(x_validation.index)\n",
    "    y_train = y.drop(y_validation.index)\n",
    "\n",
    "    return np.array(x_train), np.array(y_train), np.array(x_validation), np.array(y_validation)"
   ]
  },
  {
   "cell_type": "code",
   "execution_count": 11,
   "id": "f3dd15fd",
   "metadata": {
    "execution": {
     "iopub.execute_input": "2025-04-28T13:55:22.325245Z",
     "iopub.status.busy": "2025-04-28T13:55:22.324861Z",
     "iopub.status.idle": "2025-04-28T13:55:22.336529Z",
     "shell.execute_reply": "2025-04-28T13:55:22.335640Z"
    },
    "papermill": {
     "duration": 0.021153,
     "end_time": "2025-04-28T13:55:22.338081",
     "exception": false,
     "start_time": "2025-04-28T13:55:22.316928",
     "status": "completed"
    },
    "tags": []
   },
   "outputs": [],
   "source": [
    "x_train, y_train, x_validation, y_validation = train_validation_split(x_data, y_data, validation_size=0.2, random_state=15)"
   ]
  },
  {
   "cell_type": "code",
   "execution_count": 12,
   "id": "234ea806",
   "metadata": {
    "execution": {
     "iopub.execute_input": "2025-04-28T13:55:22.354153Z",
     "iopub.status.busy": "2025-04-28T13:55:22.353401Z",
     "iopub.status.idle": "2025-04-28T13:55:22.359332Z",
     "shell.execute_reply": "2025-04-28T13:55:22.358401Z"
    },
    "papermill": {
     "duration": 0.015466,
     "end_time": "2025-04-28T13:55:22.360845",
     "exception": false,
     "start_time": "2025-04-28T13:55:22.345379",
     "status": "completed"
    },
    "tags": []
   },
   "outputs": [
    {
     "data": {
      "text/plain": [
       "(3680, 3680)"
      ]
     },
     "execution_count": 12,
     "metadata": {},
     "output_type": "execute_result"
    }
   ],
   "source": [
    "len(x_train), len(y_train)"
   ]
  },
  {
   "cell_type": "code",
   "execution_count": 13,
   "id": "647eab71",
   "metadata": {
    "execution": {
     "iopub.execute_input": "2025-04-28T13:55:22.376534Z",
     "iopub.status.busy": "2025-04-28T13:55:22.376209Z",
     "iopub.status.idle": "2025-04-28T13:55:22.382228Z",
     "shell.execute_reply": "2025-04-28T13:55:22.381033Z"
    },
    "papermill": {
     "duration": 0.015558,
     "end_time": "2025-04-28T13:55:22.383737",
     "exception": false,
     "start_time": "2025-04-28T13:55:22.368179",
     "status": "completed"
    },
    "tags": []
   },
   "outputs": [
    {
     "data": {
      "text/plain": [
       "(920, 920)"
      ]
     },
     "execution_count": 13,
     "metadata": {},
     "output_type": "execute_result"
    }
   ],
   "source": [
    "len(x_validation), len(y_validation)"
   ]
  },
  {
   "cell_type": "code",
   "execution_count": 14,
   "id": "6df87f45",
   "metadata": {
    "execution": {
     "iopub.execute_input": "2025-04-28T13:55:22.399617Z",
     "iopub.status.busy": "2025-04-28T13:55:22.399316Z",
     "iopub.status.idle": "2025-04-28T13:55:22.405176Z",
     "shell.execute_reply": "2025-04-28T13:55:22.404277Z"
    },
    "papermill": {
     "duration": 0.015601,
     "end_time": "2025-04-28T13:55:22.406733",
     "exception": false,
     "start_time": "2025-04-28T13:55:22.391132",
     "status": "completed"
    },
    "tags": []
   },
   "outputs": [
    {
     "data": {
      "text/plain": [
       "array([1340, 3650, 1940, ..., 1460, 3010, 1490])"
      ]
     },
     "execution_count": 14,
     "metadata": {},
     "output_type": "execute_result"
    }
   ],
   "source": [
    "x_train"
   ]
  },
  {
   "cell_type": "code",
   "execution_count": 15,
   "id": "033702a5",
   "metadata": {
    "execution": {
     "iopub.execute_input": "2025-04-28T13:55:22.422624Z",
     "iopub.status.busy": "2025-04-28T13:55:22.422355Z",
     "iopub.status.idle": "2025-04-28T13:55:22.428126Z",
     "shell.execute_reply": "2025-04-28T13:55:22.427320Z"
    },
    "papermill": {
     "duration": 0.015165,
     "end_time": "2025-04-28T13:55:22.429480",
     "exception": false,
     "start_time": "2025-04-28T13:55:22.414315",
     "status": "completed"
    },
    "tags": []
   },
   "outputs": [
    {
     "data": {
      "text/plain": [
       "array([ 313000.      , 2384000.      ,  550000.      , ...,\n",
       "        534333.333333,  416904.166667,  220600.      ])"
      ]
     },
     "execution_count": 15,
     "metadata": {},
     "output_type": "execute_result"
    }
   ],
   "source": [
    "y_train"
   ]
  },
  {
   "cell_type": "code",
   "execution_count": 16,
   "id": "e97a8a49",
   "metadata": {
    "execution": {
     "iopub.execute_input": "2025-04-28T13:55:22.445955Z",
     "iopub.status.busy": "2025-04-28T13:55:22.445431Z",
     "iopub.status.idle": "2025-04-28T13:55:22.747870Z",
     "shell.execute_reply": "2025-04-28T13:55:22.746920Z"
    },
    "papermill": {
     "duration": 0.312028,
     "end_time": "2025-04-28T13:55:22.749385",
     "exception": false,
     "start_time": "2025-04-28T13:55:22.437357",
     "status": "completed"
    },
    "tags": []
   },
   "outputs": [
    {
     "data": {
      "image/png": "[encoded data removed]",
      "text/plain": [
       "<Figure size 640x480 with 1 Axes>"
      ]
     },
     "metadata": {},
     "output_type": "display_data"
    }
   ],
   "source": [
    "plt.scatter(x_train, y_train)\n",
    "plt.title(\"Train Data: House Size vs Price\")\n",
    "plt.xlabel(\"Size of house in living square meters\")\n",
    "plt.ylabel(\"Price\")\n",
    "plt.show()"
   ]
  },
  {
   "cell_type": "code",
   "execution_count": 17,
   "id": "29ccbc28",
   "metadata": {
    "execution": {
     "iopub.execute_input": "2025-04-28T13:55:22.766792Z",
     "iopub.status.busy": "2025-04-28T13:55:22.766520Z",
     "iopub.status.idle": "2025-04-28T13:55:22.772154Z",
     "shell.execute_reply": "2025-04-28T13:55:22.771191Z"
    },
    "papermill": {
     "duration": 0.016091,
     "end_time": "2025-04-28T13:55:22.773697",
     "exception": false,
     "start_time": "2025-04-28T13:55:22.757606",
     "status": "completed"
    },
    "tags": []
   },
   "outputs": [
    {
     "data": {
      "text/plain": [
       "(3680,)"
      ]
     },
     "execution_count": 17,
     "metadata": {},
     "output_type": "execute_result"
    }
   ],
   "source": [
    "x_train.shape"
   ]
  },
  {
   "cell_type": "code",
   "execution_count": 18,
   "id": "291cb3cc",
   "metadata": {
    "execution": {
     "iopub.execute_input": "2025-04-28T13:55:22.791415Z",
     "iopub.status.busy": "2025-04-28T13:55:22.791050Z",
     "iopub.status.idle": "2025-04-28T13:55:22.796425Z",
     "shell.execute_reply": "2025-04-28T13:55:22.795466Z"
    },
    "papermill": {
     "duration": 0.016271,
     "end_time": "2025-04-28T13:55:22.798056",
     "exception": false,
     "start_time": "2025-04-28T13:55:22.781785",
     "status": "completed"
    },
    "tags": []
   },
   "outputs": [],
   "source": [
    "def compute_cost(x, y, w, b):\n",
    "    m = x.shape[0]\n",
    "    cost = 0\n",
    "\n",
    "    for i in range(0, m):\n",
    "        f_wb = w * x[i] + b\n",
    "        cost += (f_wb - y[i])**2\n",
    "        \n",
    "    total_cost = cost / (2 * m)\n",
    "    return total_cost    "
   ]
  },
  {
   "cell_type": "code",
   "execution_count": 19,
   "id": "df3ed6c9",
   "metadata": {
    "execution": {
     "iopub.execute_input": "2025-04-28T13:55:22.815684Z",
     "iopub.status.busy": "2025-04-28T13:55:22.815378Z",
     "iopub.status.idle": "2025-04-28T13:55:22.821459Z",
     "shell.execute_reply": "2025-04-28T13:55:22.820552Z"
    },
    "papermill": {
     "duration": 0.016573,
     "end_time": "2025-04-28T13:55:22.822912",
     "exception": false,
     "start_time": "2025-04-28T13:55:22.806339",
     "status": "completed"
    },
    "tags": []
   },
   "outputs": [],
   "source": [
    "def compute_gradients(x, y, w, b):\n",
    "    m = x.shape[0]\n",
    "    dj_dw = 0\n",
    "    dj_db = 0\n",
    "\n",
    "    for i in range(0, m):\n",
    "        f_wb = w * x[i] + b\n",
    "        dj_dw += (f_wb - y[i]) * x[i]\n",
    "        dj_db += (f_wb - y[i])\n",
    "\n",
    "    dj_dw = dj_dw / m\n",
    "    dj_db = dj_db / m\n",
    "\n",
    "    return dj_dw, dj_db"
   ]
  },
  {
   "cell_type": "code",
   "execution_count": 20,
   "id": "43d3c1dd",
   "metadata": {
    "execution": {
     "iopub.execute_input": "2025-04-28T13:55:22.840220Z",
     "iopub.status.busy": "2025-04-28T13:55:22.839888Z",
     "iopub.status.idle": "2025-04-28T13:55:22.846164Z",
     "shell.execute_reply": "2025-04-28T13:55:22.845310Z"
    },
    "papermill": {
     "duration": 0.016615,
     "end_time": "2025-04-28T13:55:22.847649",
     "exception": false,
     "start_time": "2025-04-28T13:55:22.831034",
     "status": "completed"
    },
    "tags": []
   },
   "outputs": [],
   "source": [
    "def gradient_descent(x, y, w_in, b_in, alpha, num_inters, cost_function, gradient_function):\n",
    "    # pas by object reference\n",
    "    # shallow copy vs deep copy\n",
    "    w = copy.deepcopy(w_in)\n",
    "    b = copy.deepcopy(b_in)\n",
    "\n",
    "    # cost function evolution - loss\n",
    "    J_history = []\n",
    "\n",
    "    for i in range(0, num_inters):\n",
    "        dj_dw, dj_db = gradient_function(x, y, w, b)\n",
    "        \n",
    "        w = w - alpha * dj_dw\n",
    "        b = b - alpha * dj_db\n",
    "\n",
    "        J_history.append(cost_function(x, y, w, b))\n",
    "\n",
    "        print(f\"Iteration: {i} | Cost: {J_history[i]:.4} | dj_dw: {dj_dw:.4} | dj_db: {dj_db:.4} | w: {w:.4} | b: {b:.4}\")\n",
    "\n",
    "    return w, b, J_history    "
   ]
  },
  {
   "cell_type": "code",
   "execution_count": 21,
   "id": "95af7668",
   "metadata": {
    "execution": {
     "iopub.execute_input": "2025-04-28T13:55:22.866961Z",
     "iopub.status.busy": "2025-04-28T13:55:22.865875Z",
     "iopub.status.idle": "2025-04-28T13:55:23.008950Z",
     "shell.execute_reply": "2025-04-28T13:55:23.007803Z"
    },
    "papermill": {
     "duration": 0.154254,
     "end_time": "2025-04-28T13:55:23.010667",
     "exception": false,
     "start_time": "2025-04-28T13:55:22.856413",
     "status": "completed"
    },
    "tags": []
   },
   "outputs": [
    {
     "name": "stdout",
     "output_type": "stream",
     "text": [
      "Iteration: 0 | Cost: 2.249e+11 | dj_dw: -1.406e+09 | dj_db: -5.535e+05 | w: 421.8 | b: 0.166\n",
      "Iteration: 1 | Cost: 1.811e+11 | dj_dw: 9.003e+08 | dj_db: 3.471e+05 | w: 151.8 | b: 0.06192\n",
      "Iteration: 2 | Cost: 1.632e+11 | dj_dw: -5.764e+08 | dj_db: -2.295e+05 | w: 324.7 | b: 0.1308\n",
      "Iteration: 3 | Cost: 1.559e+11 | dj_dw: 3.69e+08 | dj_db: 1.396e+05 | w: 214.0 | b: 0.08888\n",
      "Iteration: 4 | Cost: 1.529e+11 | dj_dw: -2.363e+08 | dj_db: -9.67e+04 | w: 284.8 | b: 0.1179\n",
      "Iteration: 5 | Cost: 1.516e+11 | dj_dw: 1.513e+08 | dj_db: 5.462e+04 | w: 239.5 | b: 0.1015\n",
      "Iteration: 6 | Cost: 1.511e+11 | dj_dw: -9.685e+07 | dj_db: -4.226e+04 | w: 268.5 | b: 0.1142\n",
      "Iteration: 7 | Cost: 1.509e+11 | dj_dw: 6.201e+07 | dj_db: 1.977e+04 | w: 249.9 | b: 0.1083\n",
      "Iteration: 8 | Cost: 1.508e+11 | dj_dw: -3.97e+07 | dj_db: -1.995e+04 | w: 261.8 | b: 0.1142\n",
      "Iteration: 9 | Cost: 1.508e+11 | dj_dw: 2.542e+07 | dj_db: 5.479e+03 | w: 254.2 | b: 0.1126\n",
      "Iteration: 10 | Cost: 1.508e+11 | dj_dw: -1.627e+07 | dj_db: -1.08e+04 | w: 259.1 | b: 0.1158\n",
      "Iteration: 11 | Cost: 1.508e+11 | dj_dw: 1.042e+07 | dj_db: -377.0 | w: 256.0 | b: 0.1159\n",
      "Iteration: 12 | Cost: 1.508e+11 | dj_dw: -6.671e+06 | dj_db: -7.05e+03 | w: 258.0 | b: 0.1181\n",
      "Iteration: 13 | Cost: 1.508e+11 | dj_dw: 4.271e+06 | dj_db: -2.778e+03 | w: 256.7 | b: 0.1189\n",
      "Iteration: 14 | Cost: 1.508e+11 | dj_dw: -2.734e+06 | dj_db: -5.513e+03 | w: 257.5 | b: 0.1205\n",
      "Iteration: 15 | Cost: 1.508e+11 | dj_dw: 1.751e+06 | dj_db: -3.762e+03 | w: 257.0 | b: 0.1217\n",
      "Iteration: 16 | Cost: 1.508e+11 | dj_dw: -1.121e+06 | dj_db: -4.883e+03 | w: 257.3 | b: 0.1231\n",
      "Iteration: 17 | Cost: 1.508e+11 | dj_dw: 7.176e+05 | dj_db: -4.165e+03 | w: 257.1 | b: 0.1244\n",
      "Iteration: 18 | Cost: 1.508e+11 | dj_dw: -4.595e+05 | dj_db: -4.625e+03 | w: 257.2 | b: 0.1258\n",
      "Iteration: 19 | Cost: 1.508e+11 | dj_dw: 2.942e+05 | dj_db: -4.33e+03 | w: 257.1 | b: 0.1271\n",
      "(w, b) found by gradient descent (257.1, 0.1271)\n"
     ]
    }
   ],
   "source": [
    "w_init = 0\n",
    "b_init = 0\n",
    "test = []\n",
    "\n",
    "iterations = 20\n",
    "alpha = 3.0e-7\n",
    "\n",
    "w_final, b_final, J_history = gradient_descent(x=x_train, y=y_train, alpha=alpha, w_in=w_init, b_in=b_init, num_inters=iterations, cost_function=compute_cost, gradient_function=compute_gradients)\n",
    "print(f\"(w, b) found by gradient descent ({w_final:.4}, {b_final:.4})\")"
   ]
  },
  {
   "cell_type": "markdown",
   "id": "5601ea10",
   "metadata": {
    "papermill": {
     "duration": 0.008048,
     "end_time": "2025-04-28T13:55:23.027055",
     "exception": false,
     "start_time": "2025-04-28T13:55:23.019007",
     "status": "completed"
    },
    "tags": []
   },
   "source": [
    "**Metrics**"
   ]
  },
  {
   "cell_type": "code",
   "execution_count": 22,
   "id": "6a7a307f",
   "metadata": {
    "execution": {
     "iopub.execute_input": "2025-04-28T13:55:23.044638Z",
     "iopub.status.busy": "2025-04-28T13:55:23.044334Z",
     "iopub.status.idle": "2025-04-28T13:55:23.050413Z",
     "shell.execute_reply": "2025-04-28T13:55:23.049571Z"
    },
    "papermill": {
     "duration": 0.016694,
     "end_time": "2025-04-28T13:55:23.052110",
     "exception": false,
     "start_time": "2025-04-28T13:55:23.035416",
     "status": "completed"
    },
    "tags": []
   },
   "outputs": [
    {
     "data": {
      "text/plain": [
       "[224875100579.5237,\n",
       " 181140373458.72595,\n",
       " 163212898078.98486,\n",
       " 155864175570.80927,\n",
       " 152851831590.6748,\n",
       " 151617029724.12943,\n",
       " 151110867192.26144,\n",
       " 150903384098.69226,\n",
       " 150818333877.7624,\n",
       " 150783470601.02957,\n",
       " 150769179653.55402,\n",
       " 150763321591.12094,\n",
       " 150760920286.02744,\n",
       " 150759935954.03873,\n",
       " 150759532459.113,\n",
       " 150759367057.4105,\n",
       " 150759299253.4448,\n",
       " 150759271456.15427,\n",
       " 150759260058.1588,\n",
       " 150759255382.46347]"
      ]
     },
     "execution_count": 22,
     "metadata": {},
     "output_type": "execute_result"
    }
   ],
   "source": [
    "J_history"
   ]
  },
  {
   "cell_type": "code",
   "execution_count": 23,
   "id": "58a4fe6c",
   "metadata": {
    "execution": {
     "iopub.execute_input": "2025-04-28T13:55:23.070880Z",
     "iopub.status.busy": "2025-04-28T13:55:23.069879Z",
     "iopub.status.idle": "2025-04-28T13:55:23.268020Z",
     "shell.execute_reply": "2025-04-28T13:55:23.267154Z"
    },
    "papermill": {
     "duration": 0.209183,
     "end_time": "2025-04-28T13:55:23.269735",
     "exception": false,
     "start_time": "2025-04-28T13:55:23.060552",
     "status": "completed"
    },
    "tags": []
   },
   "outputs": [
    {
     "data": {
      "image/png": "[encoded data removed]",
      "text/plain": [
       "<Figure size 640x480 with 1 Axes>"
      ]
     },
     "metadata": {},
     "output_type": "display_data"
    }
   ],
   "source": [
    "plt.plot(J_history)\n",
    "plt.title(\"Loss evolution (Cost Function per iteration)\")\n",
    "plt.xlabel(\"Iteration number\")\n",
    "plt.ylabel(\"Cost Function\")\n",
    "plt.show()"
   ]
  },
  {
   "cell_type": "code",
   "execution_count": 24,
   "id": "42beb185",
   "metadata": {
    "execution": {
     "iopub.execute_input": "2025-04-28T13:55:23.289834Z",
     "iopub.status.busy": "2025-04-28T13:55:23.289061Z",
     "iopub.status.idle": "2025-04-28T13:55:23.294681Z",
     "shell.execute_reply": "2025-04-28T13:55:23.293548Z"
    },
    "papermill": {
     "duration": 0.01725,
     "end_time": "2025-04-28T13:55:23.296308",
     "exception": false,
     "start_time": "2025-04-28T13:55:23.279058",
     "status": "completed"
    },
    "tags": []
   },
   "outputs": [],
   "source": [
    "def r2_score(y, y_):\n",
    "    num = np.sum((y - y_)**2)\n",
    "    denom = np.sum((y - y.mean())**2)\n",
    "\n",
    "    score = 1 - num / denom\n",
    "    return score"
   ]
  },
  {
   "cell_type": "code",
   "execution_count": 25,
   "id": "ad1d4123",
   "metadata": {
    "execution": {
     "iopub.execute_input": "2025-04-28T13:55:23.315904Z",
     "iopub.status.busy": "2025-04-28T13:55:23.315295Z",
     "iopub.status.idle": "2025-04-28T13:55:23.321275Z",
     "shell.execute_reply": "2025-04-28T13:55:23.320336Z"
    },
    "papermill": {
     "duration": 0.017238,
     "end_time": "2025-04-28T13:55:23.322796",
     "exception": false,
     "start_time": "2025-04-28T13:55:23.305558",
     "status": "completed"
    },
    "tags": []
   },
   "outputs": [],
   "source": [
    "y_predicted_train = [w_final * i + b_final for i in x_train]"
   ]
  },
  {
   "cell_type": "code",
   "execution_count": 26,
   "id": "8f556315",
   "metadata": {
    "execution": {
     "iopub.execute_input": "2025-04-28T13:55:23.394458Z",
     "iopub.status.busy": "2025-04-28T13:55:23.393793Z",
     "iopub.status.idle": "2025-04-28T13:55:23.400278Z",
     "shell.execute_reply": "2025-04-28T13:55:23.399353Z"
    },
    "papermill": {
     "duration": 0.017907,
     "end_time": "2025-04-28T13:55:23.401844",
     "exception": false,
     "start_time": "2025-04-28T13:55:23.383937",
     "status": "completed"
    },
    "tags": []
   },
   "outputs": [
    {
     "data": {
      "text/plain": [
       "0.15494411061331048"
      ]
     },
     "execution_count": 26,
     "metadata": {},
     "output_type": "execute_result"
    }
   ],
   "source": [
    "r2_score(y_train, y_predicted_train) "
   ]
  },
  {
   "cell_type": "code",
   "execution_count": 27,
   "id": "d4a2297c",
   "metadata": {
    "execution": {
     "iopub.execute_input": "2025-04-28T13:55:23.421436Z",
     "iopub.status.busy": "2025-04-28T13:55:23.421068Z",
     "iopub.status.idle": "2025-04-28T13:55:23.426021Z",
     "shell.execute_reply": "2025-04-28T13:55:23.425177Z"
    },
    "papermill": {
     "duration": 0.01635,
     "end_time": "2025-04-28T13:55:23.427617",
     "exception": false,
     "start_time": "2025-04-28T13:55:23.411267",
     "status": "completed"
    },
    "tags": []
   },
   "outputs": [],
   "source": [
    "y_predicted_validate = [w_final * i + b_final for i in x_validation]"
   ]
  },
  {
   "cell_type": "code",
   "execution_count": 28,
   "id": "453135f2",
   "metadata": {
    "execution": {
     "iopub.execute_input": "2025-04-28T13:55:23.446647Z",
     "iopub.status.busy": "2025-04-28T13:55:23.446376Z",
     "iopub.status.idle": "2025-04-28T13:55:23.452644Z",
     "shell.execute_reply": "2025-04-28T13:55:23.451662Z"
    },
    "papermill": {
     "duration": 0.017472,
     "end_time": "2025-04-28T13:55:23.454135",
     "exception": false,
     "start_time": "2025-04-28T13:55:23.436663",
     "status": "completed"
    },
    "tags": []
   },
   "outputs": [
    {
     "data": {
      "text/plain": [
       "0.45125560623548366"
      ]
     },
     "execution_count": 28,
     "metadata": {},
     "output_type": "execute_result"
    }
   ],
   "source": [
    "r2_score(y_validation, y_predicted_validate)"
   ]
  },
  {
   "cell_type": "code",
   "execution_count": 29,
   "id": "1d11a483",
   "metadata": {
    "execution": {
     "iopub.execute_input": "2025-04-28T13:55:23.473804Z",
     "iopub.status.busy": "2025-04-28T13:55:23.473514Z",
     "iopub.status.idle": "2025-04-28T13:55:23.654750Z",
     "shell.execute_reply": "2025-04-28T13:55:23.653746Z"
    },
    "papermill": {
     "duration": 0.193281,
     "end_time": "2025-04-28T13:55:23.656468",
     "exception": false,
     "start_time": "2025-04-28T13:55:23.463187",
     "status": "completed"
    },
    "tags": []
   },
   "outputs": [
    {
     "data": {
      "text/plain": [
       "<matplotlib.collections.PathCollection at 0x789dac1580d0>"
      ]
     },
     "execution_count": 29,
     "metadata": {},
     "output_type": "execute_result"
    },
    {
     "data": {
      "image/png": "[encoded data removed]",
      "text/plain": [
       "<Figure size 640x480 with 1 Axes>"
      ]
     },
     "metadata": {},
     "output_type": "display_data"
    }
   ],
   "source": [
    "plt.scatter(x_validation, y_validation)"
   ]
  },
  {
   "cell_type": "code",
   "execution_count": 30,
   "id": "2ed60f40",
   "metadata": {
    "execution": {
     "iopub.execute_input": "2025-04-28T13:55:23.676687Z",
     "iopub.status.busy": "2025-04-28T13:55:23.676386Z",
     "iopub.status.idle": "2025-04-28T13:55:23.867123Z",
     "shell.execute_reply": "2025-04-28T13:55:23.866147Z"
    },
    "papermill": {
     "duration": 0.202726,
     "end_time": "2025-04-28T13:55:23.868726",
     "exception": false,
     "start_time": "2025-04-28T13:55:23.666000",
     "status": "completed"
    },
    "tags": []
   },
   "outputs": [
    {
     "data": {
      "text/plain": [
       "<matplotlib.collections.PathCollection at 0x789dac1f3110>"
      ]
     },
     "execution_count": 30,
     "metadata": {},
     "output_type": "execute_result"
    },
    {
     "data": {
      "image/png": "[encoded data removed]",
      "text/plain": [
       "<Figure size 640x480 with 1 Axes>"
      ]
     },
     "metadata": {},
     "output_type": "display_data"
    }
   ],
   "source": [
    "\n",
    "plt.scatter(x_train, y_train)"
   ]
  },
  {
   "cell_type": "markdown",
   "id": "d04d125b",
   "metadata": {
    "papermill": {
     "duration": 0.010618,
     "end_time": "2025-04-28T13:55:23.889423",
     "exception": false,
     "start_time": "2025-04-28T13:55:23.878805",
     "status": "completed"
    },
    "tags": []
   },
   "source": [
    "**Prediction**"
   ]
  },
  {
   "cell_type": "code",
   "execution_count": 31,
   "id": "6ab40792",
   "metadata": {
    "execution": {
     "iopub.execute_input": "2025-04-28T13:55:23.910727Z",
     "iopub.status.busy": "2025-04-28T13:55:23.910013Z",
     "iopub.status.idle": "2025-04-28T13:55:23.916365Z",
     "shell.execute_reply": "2025-04-28T13:55:23.915277Z"
    },
    "papermill": {
     "duration": 0.018624,
     "end_time": "2025-04-28T13:55:23.917924",
     "exception": false,
     "start_time": "2025-04-28T13:55:23.899300",
     "status": "completed"
    },
    "tags": []
   },
   "outputs": [
    {
     "name": "stdout",
     "output_type": "stream",
     "text": [
      "A house with size(m^2) 20 has a price of: 5142.957292495854$\n",
      "A house with size(m^2) 30 has a price of: 7714.372401445551$\n",
      "A house with size(m^2) 50 has a price of: 12857.202619344946$\n",
      "A house with size(m^2) 60 has a price of: 15428.617728294643$\n",
      "A house with size(m^2) 4000 has a price of: 1028566.1706544753$\n"
     ]
    }
   ],
   "source": [
    "size_of_house = 20\n",
    "print(f\"A house with size(m^2) {size_of_house} has a price of: {w_final * size_of_house + b_final}$\")\n",
    "size_of_house = 30\n",
    "print(f\"A house with size(m^2) {size_of_house} has a price of: {w_final * size_of_house + b_final}$\")\n",
    "size_of_house = 50\n",
    "print(f\"A house with size(m^2) {size_of_house} has a price of: {w_final * size_of_house + b_final}$\")\n",
    "size_of_house = 60\n",
    "print(f\"A house with size(m^2) {size_of_house} has a price of: {w_final * size_of_house + b_final}$\")\n",
    "size_of_house = 4000\n",
    "print(f\"A house with size(m^2) {size_of_house} has a price of: {w_final * size_of_house + b_final}$\")"
   ]
  },
  {
   "cell_type": "code",
   "execution_count": 32,
   "id": "2e94464d",
   "metadata": {
    "execution": {
     "iopub.execute_input": "2025-04-28T13:55:23.939521Z",
     "iopub.status.busy": "2025-04-28T13:55:23.939200Z",
     "iopub.status.idle": "2025-04-28T13:55:24.096243Z",
     "shell.execute_reply": "2025-04-28T13:55:24.095345Z"
    },
    "papermill": {
     "duration": 0.169634,
     "end_time": "2025-04-28T13:55:24.097873",
     "exception": false,
     "start_time": "2025-04-28T13:55:23.928239",
     "status": "completed"
    },
    "tags": []
   },
   "outputs": [
    {
     "data": {
      "image/png": "[encoded data removed]",
      "text/plain": [
       "<Figure size 640x480 with 1 Axes>"
      ]
     },
     "metadata": {},
     "output_type": "display_data"
    }
   ],
   "source": [
    "plt.scatter(x_train, y_train)\n",
    "plt.plot(x_train, w_final * x_train + b_final, c='r')\n",
    "plt.show()"
   ]
  },
  {
   "cell_type": "code",
   "execution_count": 33,
   "id": "a343a619",
   "metadata": {
    "execution": {
     "iopub.execute_input": "2025-04-28T13:55:24.120030Z",
     "iopub.status.busy": "2025-04-28T13:55:24.119707Z",
     "iopub.status.idle": "2025-04-28T13:55:24.283303Z",
     "shell.execute_reply": "2025-04-28T13:55:24.282182Z"
    },
    "papermill": {
     "duration": 0.176593,
     "end_time": "2025-04-28T13:55:24.284950",
     "exception": false,
     "start_time": "2025-04-28T13:55:24.108357",
     "status": "completed"
    },
    "tags": []
   },
   "outputs": [
    {
     "data": {
      "image/png": "[encoded data removed]",
      "text/plain": [
       "<Figure size 640x480 with 1 Axes>"
      ]
     },
     "metadata": {},
     "output_type": "display_data"
    }
   ],
   "source": [
    "plt.scatter(x_validation, y_validation)\n",
    "plt.plot(x_train, w_final * x_train + b_final, c='r')\n",
    "plt.show()"
   ]
  }
 ],
 "metadata": {
  "kaggle": {
   "accelerator": "none",
   "dataSources": [
    {
     "datasetId": 46927,
     "sourceId": 85203,
     "sourceType": "datasetVersion"
    }
   ],
   "dockerImageVersionId": 31012,
   "isGpuEnabled": false,
   "isInternetEnabled": true,
   "language": "python",
   "sourceType": "notebook"
  },
  "kernelspec": {
   "display_name": "Python 3",
   "language": "python",
   "name": "python3"
  },
  "language_info": {
   "codemirror_mode": {
    "name": "ipython",
    "version": 3
   },
   "file_extension": ".py",
   "mimetype": "text/x-python",
   "name": "python",
   "nbconvert_exporter": "python",
   "pygments_lexer": "ipython3",
   "version": "3.11.11"
  },
  "papermill": {
   "default_parameters": {},
   "duration": 10.80743,
   "end_time": "2025-04-28T13:55:24.815693",
   "environment_variables": {},
   "exception": null,
   "input_path": "__notebook__.ipynb",
   "output_path": "__notebook__.ipynb",
   "parameters": {},
   "start_time": "2025-04-28T13:55:14.008263",
   "version": "2.6.0"
  }
 },
 "nbformat": 4,
 "nbformat_minor": 5
}
